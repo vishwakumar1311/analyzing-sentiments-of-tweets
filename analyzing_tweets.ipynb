{
  "cells": [
    {
      "cell_type": "markdown",
      "metadata": {
        "id": "view-in-github",
        "colab_type": "text"
      },
      "source": [
        "<a href=\"https://colab.research.google.com/github/vishwakumar1311/analyzing-sentiments-of-tweets/blob/main/analyzing_tweets.ipynb\" target=\"_parent\"><img src=\"https://colab.research.google.com/assets/colab-badge.svg\" alt=\"Open In Colab\"/></a>"
      ]
    },
    {
      "cell_type": "code",
      "execution_count": null,
      "metadata": {
        "id": "iTHM6JaML3ly"
      },
      "outputs": [],
      "source": [
        "import pandas as pd\n",
        "import numpy as np\n",
        "from sklearn.model_selection import train_test_split\n"
      ]
    },
    {
      "cell_type": "code",
      "execution_count": null,
      "metadata": {
        "colab": {
          "base_uri": "https://localhost:8080/"
        },
        "id": "CgA9WiRdNpl-",
        "outputId": "afeaf9bd-a594-4ce2-f587-231f078f4e1a"
      },
      "outputs": [
        {
          "name": "stdout",
          "output_type": "stream",
          "text": [
            "Requirement already satisfied: chardet in /usr/local/lib/python3.10/dist-packages (5.2.0)\n"
          ]
        }
      ],
      "source": [
        "!pip install chardet\n",
        "\n"
      ]
    },
    {
      "cell_type": "code",
      "execution_count": null,
      "metadata": {
        "id": "BKccFGNrjc3l"
      },
      "outputs": [],
      "source": [
        "import chardet"
      ]
    },
    {
      "cell_type": "code",
      "execution_count": null,
      "metadata": {
        "colab": {
          "base_uri": "https://localhost:8080/"
        },
        "id": "tf8_NluAd2uW",
        "outputId": "2096b30d-cc08-48be-d2d9-53e6fdf3d0ee"
      },
      "outputs": [
        {
          "output_type": "execute_result",
          "data": {
            "text/plain": [
              "(913735, 6)"
            ]
          },
          "metadata": {},
          "execution_count": 20
        }
      ],
      "source": [
        "\n",
        "df = pd.read_csv('/content/tweets.csv', encoding='latin-1')\n",
        "#df.head(10)\n",
        "#df.tail(10)\n",
        "\n",
        "df.shape"
      ]
    },
    {
      "cell_type": "code",
      "execution_count": null,
      "metadata": {
        "id": "vYoIfUveyGX-"
      },
      "outputs": [],
      "source": [
        "df.loc[913734]"
      ]
    },
    {
      "cell_type": "code",
      "execution_count": null,
      "metadata": {
        "id": "DSW96pRjlFV0"
      },
      "outputs": [],
      "source": [
        "# Remove the 'Date' and 'flag' columns\n",
        "del df['Date']\n",
        "del df['flag']\n",
        "\n",
        "\n",
        "\n"
      ]
    },
    {
      "cell_type": "code",
      "execution_count": null,
      "metadata": {
        "id": "3vQmhnHRzeaH",
        "colab": {
          "base_uri": "https://localhost:8080/"
        },
        "outputId": "9155cde6-dbce-4929-d258-ec42b9dfef23"
      },
      "outputs": [
        {
          "output_type": "stream",
          "name": "stdout",
          "text": [
            "        Target          ID            User  \\\n",
            "233213       0  1979326962    simonkirkman   \n",
            "216118       0  1975638984          TheKPT   \n",
            "425544       0  2063347054   letssmokegood   \n",
            "699572       0  2254488621      StaticWrap   \n",
            "661870       0  2243373976     meltonbritt   \n",
            "387704       0  2054067463       Taytaytnk   \n",
            "647486       0  2236775795     DuhItsDanny   \n",
            "90412        0  1755803231  ChrisCruz51890   \n",
            "616299       0  2226605848          P0LLLY   \n",
            "9122         0  1548614288   __ashleymarie   \n",
            "246568       0  1982274495      razaeletan   \n",
            "675499       0  2248110503         kmaisie   \n",
            "743178       0  2266766150           Sof24   \n",
            "49352        0  1678122781     WLxboxRox56   \n",
            "711226       0  2258160737         Skept1c   \n",
            "55400        0  1685069384      Jonas_Fans   \n",
            "186778       0  1968417187        lisa_rae   \n",
            "168633       0  1962237935    ButtercuppO9   \n",
            "199049       0  1971349199      ems_london   \n",
            "895169       4  1692567252      Michaeluhh   \n",
            "\n",
            "                                                     Text  \n",
            "233213  @jessward123 no I didn't go  damn good show he...  \n",
            "216118  @WilliamSledd Glad to hear it! Your last video...  \n",
            "425544  just got caught in the middle of a fight betwe...  \n",
            "699572            @snowbunny22 at least it's not RAINING   \n",
            "661870  my husband is at home... and I wish I was ther...  \n",
            "387704  lilly keeps growling/hissing at me  either she...  \n",
            "647486  waiting in line for jb 2 &quot;possibly&quot; ...  \n",
            "90412                                    Pray for my mom   \n",
            "616299                       I didn't eat breakfast yet!   \n",
            "9122    My contacts have been bugging me all night. Ug...  \n",
            "246568  The most annoying feeling in the world is when...  \n",
            "675499                 Im still not feeling good either!   \n",
            "743178                      banged her head on the grass   \n",
            "49352   3-3 woo! but they pulled it backright at the end   \n",
            "711226  The movie, Up,  made me very sad. Totally not ...  \n",
            "55400   im kinda mad that jonas brothers werent there ...  \n",
            "186778       Mood: Kinda bummed. Actually really bummed.   \n",
            "168633  i feel some type of way cause im not talkin to...  \n",
            "199049  @fionamccarthy ha ha you are a bit, coolies I ...  \n",
            "895169      @Torikelly it just never gets old  &lt;3 1234  \n"
          ]
        }
      ],
      "source": [
        "# Shuffle the DataFrame\n",
        "df1 = df.sample(frac=1, random_state=42)\n",
        "\n",
        "\n",
        "print(df1.head(20))"
      ]
    },
    {
      "cell_type": "code",
      "execution_count": null,
      "metadata": {
        "id": "3_ZWlV61bO90"
      },
      "outputs": [],
      "source": [
        "# Natural Language Processing Toolkit\n",
        "from nltk.corpus import stopwords, words # get stopwords from NLTK library & get all words in english language\n",
        "from nltk.tokenize import word_tokenize # to create word tokens\n",
        "from nltk.stem import PorterStemmer\n",
        "from nltk.stem import WordNetLemmatizer # to reduce words to orginal form\n",
        "from nltk import pos_tag # For Parts of Speech tagging\n",
        "import re # In-built regular expressions library\n",
        "import string\n",
        "from sklearn.feature_extraction.text import TfidfVectorizer\n",
        "from sklearn.linear_model import LogisticRegression\n",
        "from sklearn.metrics import accuracy_score\n",
        "from textblob import TextBlob # TextBlob - Python library for processing textual data"
      ]
    },
    {
      "cell_type": "code",
      "execution_count": null,
      "metadata": {
        "colab": {
          "base_uri": "https://localhost:8080/"
        },
        "id": "Gqf3HGwFk5rA",
        "outputId": "98833d39-d17a-46e6-e099-46b771744442"
      },
      "outputs": [
        {
          "output_type": "stream",
          "name": "stderr",
          "text": [
            "[nltk_data] Downloading package stopwords to /root/nltk_data...\n",
            "[nltk_data]   Unzipping corpora/stopwords.zip.\n"
          ]
        },
        {
          "output_type": "execute_result",
          "data": {
            "text/plain": [
              "True"
            ]
          },
          "metadata": {},
          "execution_count": 24
        }
      ],
      "source": [
        "import nltk\n",
        "nltk.download('stopwords')"
      ]
    },
    {
      "cell_type": "code",
      "execution_count": null,
      "metadata": {
        "colab": {
          "base_uri": "https://localhost:8080/"
        },
        "id": "vqJ62_lslLxK",
        "outputId": "7f110234-c2d8-480d-d3a0-9168c99ec1c1"
      },
      "outputs": [
        {
          "output_type": "stream",
          "name": "stdout",
          "text": [
            "['i', 'me', 'my', 'myself', 'we', 'our', 'ours', 'ourselves', 'you', \"you're\", \"you've\", \"you'll\", \"you'd\", 'your', 'yours', 'yourself', 'yourselves', 'he', 'him', 'his', 'himself', 'she', \"she's\", 'her', 'hers', 'herself', 'it', \"it's\", 'its', 'itself', 'they', 'them', 'their', 'theirs', 'themselves', 'what', 'which', 'who', 'whom', 'this', 'that', \"that'll\", 'these', 'those', 'am', 'is', 'are', 'was', 'were', 'be', 'been', 'being', 'have', 'has', 'had', 'having', 'do', 'does', 'did', 'doing', 'a', 'an', 'the', 'and', 'but', 'if', 'or', 'because', 'as', 'until', 'while', 'of', 'at', 'by', 'for', 'with', 'about', 'against', 'between', 'into', 'through', 'during', 'before', 'after', 'above', 'below', 'to', 'from', 'up', 'down', 'in', 'out', 'on', 'off', 'over', 'under', 'again', 'further', 'then', 'once', 'here', 'there', 'when', 'where', 'why', 'how', 'all', 'any', 'both', 'each', 'few', 'more', 'most', 'other', 'some', 'such', 'no', 'nor', 'not', 'only', 'own', 'same', 'so', 'than', 'too', 'very', 's', 't', 'can', 'will', 'just', 'don', \"don't\", 'should', \"should've\", 'now', 'd', 'll', 'm', 'o', 're', 've', 'y', 'ain', 'aren', \"aren't\", 'couldn', \"couldn't\", 'didn', \"didn't\", 'doesn', \"doesn't\", 'hadn', \"hadn't\", 'hasn', \"hasn't\", 'haven', \"haven't\", 'isn', \"isn't\", 'ma', 'mightn', \"mightn't\", 'mustn', \"mustn't\", 'needn', \"needn't\", 'shan', \"shan't\", 'shouldn', \"shouldn't\", 'wasn', \"wasn't\", 'weren', \"weren't\", 'won', \"won't\", 'wouldn', \"wouldn't\"]\n"
          ]
        }
      ],
      "source": [
        "print(stopwords.words('english'))"
      ]
    },
    {
      "cell_type": "code",
      "execution_count": null,
      "metadata": {
        "colab": {
          "base_uri": "https://localhost:8080/"
        },
        "id": "l27BVA1hdWj3",
        "outputId": "3cbf72ac-f5eb-4897-84eb-ae7cbbc8131b"
      },
      "outputs": [
        {
          "output_type": "execute_result",
          "data": {
            "text/plain": [
              "(913499, 4)"
            ]
          },
          "metadata": {},
          "execution_count": 26
        }
      ],
      "source": [
        "df1.duplicated(subset='ID').sum()\n",
        "df1=df1.drop_duplicates(subset=['ID']) # drop duplicate values\n",
        "df1.shape # Check the shape after dropping duplicates"
      ]
    },
    {
      "cell_type": "code",
      "execution_count": null,
      "metadata": {
        "id": "4evvLEIwougw"
      },
      "outputs": [],
      "source": [
        "port_steam= PorterStemmer()\n",
        "def stemming(content):\n",
        "  stemmed_content= re.sub('^[a-zA-Z]',' ',content)\n",
        "  stemmed_content= stemmed_content.lower()\n",
        "  stemmed_content= stemmed_content.split()\n",
        "  stemmed_content= [port_steam.stem(word) for word in stemmed_content if not word in stopwords.words('english')]\n",
        "\n",
        "  return stemmed_content"
      ]
    },
    {
      "cell_type": "code",
      "execution_count": null,
      "metadata": {
        "id": "skn-RSy5t8jK"
      },
      "outputs": [],
      "source": [
        "df1['stemmed_content']= df1['Text'].apply(stemming)"
      ]
    },
    {
      "cell_type": "code",
      "execution_count": null,
      "metadata": {
        "colab": {
          "base_uri": "https://localhost:8080/"
        },
        "id": "JBb0ybafsIRK",
        "outputId": "5fc42443-478e-4f9c-94b2-25d012c5463c"
      },
      "outputs": [
        {
          "output_type": "stream",
          "name": "stdout",
          "text": [
            "<class 'pandas.core.series.Series'>\n"
          ]
        }
      ],
      "source": [
        "\n",
        "X = df1['stemmed_content']  # Features (text)\n",
        "y = df1['Target'] # Target (sentiment label)\n",
        "print(type(X))\n",
        "# Splitting the dataset into training, validation, and test sets\n",
        "X_train, X_temp, y_train, y_temp = train_test_split(X, y, test_size=0.2, random_state=42)\n",
        "X_val, X_test, y_val, y_test = train_test_split(X_temp, y_temp, test_size=0.5, random_state=42)\n",
        "\n",
        "\n",
        "\n"
      ]
    },
    {
      "source": [
        "!pip install scikit-learn"
      ],
      "cell_type": "code",
      "metadata": {
        "id": "dFJTG_nun8tR"
      },
      "execution_count": null,
      "outputs": []
    },
    {
      "source": [
        "X_train = X_train.astype(str)\n",
        "X_test = X_test.astype(str)\n",
        "X_val = X_val.astype(str)"
      ],
      "cell_type": "code",
      "metadata": {
        "id": "lagR_xfgoFtK"
      },
      "execution_count": null,
      "outputs": []
    },
    {
      "cell_type": "code",
      "source": [
        "vectorizer= TfidfVectorizer()\n",
        "\n",
        "X_train= vectorizer.fit_transform(X_train)\n",
        "X_test= vectorizer.transform(X_test)\n",
        "X_val= vectorizer.transform(X_val)\n"
      ],
      "metadata": {
        "id": "0tVsZGjLg4_J"
      },
      "execution_count": null,
      "outputs": []
    },
    {
      "cell_type": "code",
      "source": [
        "print(X_train)"
      ],
      "metadata": {
        "id": "UuAn8TXTomvF"
      },
      "execution_count": null,
      "outputs": []
    },
    {
      "cell_type": "code",
      "source": [
        "model= LogisticRegression(max_iter=1000)"
      ],
      "metadata": {
        "id": "x0BtE3YMpNCI"
      },
      "execution_count": null,
      "outputs": []
    },
    {
      "cell_type": "code",
      "source": [
        "model.fit(X_train, y_train)\n"
      ],
      "metadata": {
        "colab": {
          "base_uri": "https://localhost:8080/",
          "height": 75
        },
        "id": "2TK6AniarhZT",
        "outputId": "b5e6e985-95d7-47e3-ceb8-46e6493c38ac"
      },
      "execution_count": null,
      "outputs": [
        {
          "output_type": "execute_result",
          "data": {
            "text/plain": [
              "LogisticRegression(max_iter=1000)"
            ],
            "text/html": [
              "<style>#sk-container-id-1 {color: black;background-color: white;}#sk-container-id-1 pre{padding: 0;}#sk-container-id-1 div.sk-toggleable {background-color: white;}#sk-container-id-1 label.sk-toggleable__label {cursor: pointer;display: block;width: 100%;margin-bottom: 0;padding: 0.3em;box-sizing: border-box;text-align: center;}#sk-container-id-1 label.sk-toggleable__label-arrow:before {content: \"▸\";float: left;margin-right: 0.25em;color: #696969;}#sk-container-id-1 label.sk-toggleable__label-arrow:hover:before {color: black;}#sk-container-id-1 div.sk-estimator:hover label.sk-toggleable__label-arrow:before {color: black;}#sk-container-id-1 div.sk-toggleable__content {max-height: 0;max-width: 0;overflow: hidden;text-align: left;background-color: #f0f8ff;}#sk-container-id-1 div.sk-toggleable__content pre {margin: 0.2em;color: black;border-radius: 0.25em;background-color: #f0f8ff;}#sk-container-id-1 input.sk-toggleable__control:checked~div.sk-toggleable__content {max-height: 200px;max-width: 100%;overflow: auto;}#sk-container-id-1 input.sk-toggleable__control:checked~label.sk-toggleable__label-arrow:before {content: \"▾\";}#sk-container-id-1 div.sk-estimator input.sk-toggleable__control:checked~label.sk-toggleable__label {background-color: #d4ebff;}#sk-container-id-1 div.sk-label input.sk-toggleable__control:checked~label.sk-toggleable__label {background-color: #d4ebff;}#sk-container-id-1 input.sk-hidden--visually {border: 0;clip: rect(1px 1px 1px 1px);clip: rect(1px, 1px, 1px, 1px);height: 1px;margin: -1px;overflow: hidden;padding: 0;position: absolute;width: 1px;}#sk-container-id-1 div.sk-estimator {font-family: monospace;background-color: #f0f8ff;border: 1px dotted black;border-radius: 0.25em;box-sizing: border-box;margin-bottom: 0.5em;}#sk-container-id-1 div.sk-estimator:hover {background-color: #d4ebff;}#sk-container-id-1 div.sk-parallel-item::after {content: \"\";width: 100%;border-bottom: 1px solid gray;flex-grow: 1;}#sk-container-id-1 div.sk-label:hover label.sk-toggleable__label {background-color: #d4ebff;}#sk-container-id-1 div.sk-serial::before {content: \"\";position: absolute;border-left: 1px solid gray;box-sizing: border-box;top: 0;bottom: 0;left: 50%;z-index: 0;}#sk-container-id-1 div.sk-serial {display: flex;flex-direction: column;align-items: center;background-color: white;padding-right: 0.2em;padding-left: 0.2em;position: relative;}#sk-container-id-1 div.sk-item {position: relative;z-index: 1;}#sk-container-id-1 div.sk-parallel {display: flex;align-items: stretch;justify-content: center;background-color: white;position: relative;}#sk-container-id-1 div.sk-item::before, #sk-container-id-1 div.sk-parallel-item::before {content: \"\";position: absolute;border-left: 1px solid gray;box-sizing: border-box;top: 0;bottom: 0;left: 50%;z-index: -1;}#sk-container-id-1 div.sk-parallel-item {display: flex;flex-direction: column;z-index: 1;position: relative;background-color: white;}#sk-container-id-1 div.sk-parallel-item:first-child::after {align-self: flex-end;width: 50%;}#sk-container-id-1 div.sk-parallel-item:last-child::after {align-self: flex-start;width: 50%;}#sk-container-id-1 div.sk-parallel-item:only-child::after {width: 0;}#sk-container-id-1 div.sk-dashed-wrapped {border: 1px dashed gray;margin: 0 0.4em 0.5em 0.4em;box-sizing: border-box;padding-bottom: 0.4em;background-color: white;}#sk-container-id-1 div.sk-label label {font-family: monospace;font-weight: bold;display: inline-block;line-height: 1.2em;}#sk-container-id-1 div.sk-label-container {text-align: center;}#sk-container-id-1 div.sk-container {/* jupyter's `normalize.less` sets `[hidden] { display: none; }` but bootstrap.min.css set `[hidden] { display: none !important; }` so we also need the `!important` here to be able to override the default hidden behavior on the sphinx rendered scikit-learn.org. See: https://github.com/scikit-learn/scikit-learn/issues/21755 */display: inline-block !important;position: relative;}#sk-container-id-1 div.sk-text-repr-fallback {display: none;}</style><div id=\"sk-container-id-1\" class=\"sk-top-container\"><div class=\"sk-text-repr-fallback\"><pre>LogisticRegression(max_iter=1000)</pre><b>In a Jupyter environment, please rerun this cell to show the HTML representation or trust the notebook. <br />On GitHub, the HTML representation is unable to render, please try loading this page with nbviewer.org.</b></div><div class=\"sk-container\" hidden><div class=\"sk-item\"><div class=\"sk-estimator sk-toggleable\"><input class=\"sk-toggleable__control sk-hidden--visually\" id=\"sk-estimator-id-1\" type=\"checkbox\" checked><label for=\"sk-estimator-id-1\" class=\"sk-toggleable__label sk-toggleable__label-arrow\">LogisticRegression</label><div class=\"sk-toggleable__content\"><pre>LogisticRegression(max_iter=1000)</pre></div></div></div></div></div>"
            ]
          },
          "metadata": {},
          "execution_count": 46
        }
      ]
    },
    {
      "cell_type": "code",
      "source": [
        "X_pred= model.predict(X_train)\n",
        "acc= accuracy_score(y_train,X_pred)\n",
        "print(acc)"
      ],
      "metadata": {
        "colab": {
          "base_uri": "https://localhost:8080/"
        },
        "id": "QwCINtjJyj9B",
        "outputId": "076d7303-2bdf-43cb-a13a-82fac109da04"
      },
      "execution_count": null,
      "outputs": [
        {
          "output_type": "stream",
          "name": "stdout",
          "text": [
            "0.9057634178481361\n"
          ]
        }
      ]
    },
    {
      "cell_type": "code",
      "source": [
        "X_pred= model.predict(X_test)\n",
        "acc= accuracy_score(y_test,X_pred)"
      ],
      "metadata": {
        "id": "Ve802-52skhj"
      },
      "execution_count": null,
      "outputs": []
    },
    {
      "cell_type": "code",
      "source": [
        "print(acc)"
      ],
      "metadata": {
        "colab": {
          "base_uri": "https://localhost:8080/"
        },
        "id": "_tWI73LLuJIx",
        "outputId": "dec6e4bb-ccae-48eb-a332-8bd0120fe66a"
      },
      "execution_count": null,
      "outputs": [
        {
          "output_type": "stream",
          "name": "stdout",
          "text": [
            "0.8974165298303229\n"
          ]
        }
      ]
    }
  ],
  "metadata": {
    "colab": {
      "provenance": [],
      "mount_file_id": "1EE044dV0Ai5s2hBbtstof-Ktk_Hkb9m_",
      "authorship_tag": "ABX9TyOQbBA2P0tt1e6LIB7719Vs",
      "include_colab_link": true
    },
    "kernelspec": {
      "display_name": "Python 3",
      "name": "python3"
    },
    "language_info": {
      "name": "python"
    }
  },
  "nbformat": 4,
  "nbformat_minor": 0
}